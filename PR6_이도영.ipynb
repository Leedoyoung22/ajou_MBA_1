{
 "cells": [
  {
   "cell_type": "markdown",
   "id": "2acee230-5e34-4713-b7ce-117ef469e805",
   "metadata": {},
   "source": [
    "# PR6 자료구조 이도영"
   ]
  },
  {
   "cell_type": "code",
   "execution_count": 3,
   "id": "2ddad861-1506-46c2-b79d-db935844202c",
   "metadata": {},
   "outputs": [
    {
     "name": "stdout",
     "output_type": "stream",
     "text": [
      "[1, 2, 3, 4, 5, 10, 20]\n",
      "[1, 2, 3, 4, 5, 10]\n",
      "[1, 2, 3, 4, 5]\n",
      "[1, 2, 3, 4]\n",
      "[2, 3, 4]\n",
      "[3, 4]\n"
     ]
    }
   ],
   "source": [
    "a=[1,2,3,4,5]  #스택 & 큐\n",
    "a.append(10)\n",
    "a.append(20)\n",
    "print(a)\n",
    "a.pop() #스택 (뒤에서부터 하나씩 빠진다)\n",
    "print(a)\n",
    "a.pop()\n",
    "print(a)\n",
    "a.pop()\n",
    "print(a)\n",
    "a.pop(0) #큐 (앞에서부터 하나씩 빠진다)\n",
    "print(a)\n",
    "a.pop(0)\n",
    "print(a)"
   ]
  },
  {
   "cell_type": "code",
   "execution_count": 4,
   "id": "6e4c87dd-9285-46dc-bfa3-5609e2e249a2",
   "metadata": {},
   "outputs": [
    {
     "name": "stdout",
     "output_type": "stream",
     "text": [
      "1 1\n",
      "1 10\n"
     ]
    },
    {
     "ename": "TypeError",
     "evalue": "'tuple' object does not support item assignment",
     "output_type": "error",
     "traceback": [
      "\u001b[0;31m---------------------------------------------------------------------------\u001b[0m",
      "\u001b[0;31mTypeError\u001b[0m                                 Traceback (most recent call last)",
      "Cell \u001b[0;32mIn[4], line 9\u001b[0m\n\u001b[1;32m      7\u001b[0m a[\u001b[38;5;241m0\u001b[39m]\u001b[38;5;241m=\u001b[39m\u001b[38;5;241m10\u001b[39m\n\u001b[1;32m      8\u001b[0m \u001b[38;5;28mprint\u001b[39m(t[\u001b[38;5;241m0\u001b[39m], a[\u001b[38;5;241m0\u001b[39m])\n\u001b[0;32m----> 9\u001b[0m \u001b[43mt\u001b[49m\u001b[43m[\u001b[49m\u001b[38;5;241;43m0\u001b[39;49m\u001b[43m]\u001b[49m\u001b[38;5;241m=\u001b[39m\u001b[38;5;241m10\u001b[39m\n",
      "\u001b[0;31mTypeError\u001b[0m: 'tuple' object does not support item assignment"
     ]
    }
   ],
   "source": [
    "## tuple\n",
    "\n",
    "t=(1,2,3)\n",
    "a=[1,2,3]\n",
    "\n",
    "print(t[0], a[0])\n",
    "a[0]=10\n",
    "print(t[0], a[0])\n",
    "t[0]=10"
   ]
  },
  {
   "cell_type": "code",
   "execution_count": 7,
   "id": "84bce298-c941-4f0f-b8aa-73cc44564f65",
   "metadata": {},
   "outputs": [
    {
     "name": "stdout",
     "output_type": "stream",
     "text": [
      "{1, 2, 3, 5}\n",
      "{1, 2, 3, 5}\n",
      "{1, 2, 3, 4, 5}\n",
      "{1, 2, 3, 4, 5, 7, 8}\n",
      "{1, 3, 4, 5, 7, 8}\n",
      "{1, 4, 5, 7, 8}\n",
      "set()\n"
     ]
    }
   ],
   "source": [
    "s=set([1,2,3,1,2,1,2,5]) #set\n",
    "print(s)\n",
    "s.add(2)\n",
    "print(s)\n",
    "s.add(4)\n",
    "print(s)\n",
    "s.update([1,3,7,8])\n",
    "print(s)\n",
    "s.remove(2)\n",
    "print(s)\n",
    "s.discard(3)\n",
    "print(s)\n",
    "s.clear()\n",
    "print(s)"
   ]
  },
  {
   "cell_type": "code",
   "execution_count": 11,
   "id": "ebf338be-ffca-49fd-95f5-20d5ef7953f4",
   "metadata": {},
   "outputs": [
    {
     "name": "stdout",
     "output_type": "stream",
     "text": [
      "{3, 4, 5}\n",
      "{3, 4, 5}\n",
      "{1, 2, 3, 4, 5, 6, 7}\n",
      "{1, 2, 3, 4, 5, 6, 7}\n",
      "{1, 2}\n",
      "{1, 2}\n"
     ]
    }
   ],
   "source": [
    "s1=set([1,2,3,4,5])\n",
    "s2=set([3,4,5,6,7])\n",
    "print(s1&s2) #교집합\n",
    "print(s1.intersection(s2)) #교집합\n",
    "print(s1|s2) #합집합\n",
    "print(s1.union(s2)) #합집합\n",
    "print(s1-s2) #차집합\n",
    "print(s1.difference(s2)) #차집합"
   ]
  },
  {
   "cell_type": "code",
   "execution_count": 15,
   "id": "ddb2827b-0505-40d6-9a1a-d7e90d52ad45",
   "metadata": {},
   "outputs": [
    {
     "name": "stdout",
     "output_type": "stream",
     "text": [
      "{'America': 1, 'Korea': 82, 'China': 86, 'Japan': 81, 'Germany': 49}\n",
      "dict_keys(['America', 'Korea', 'China', 'Japan', 'Germany'])\n",
      "dict_values([1, 82, 86, 81, 49])\n",
      "dict_items([('America', 1), ('Korea', 82), ('China', 86), ('Japan', 81), ('Germany', 49)])\n"
     ]
    }
   ],
   "source": [
    "# 딕셔너리\n",
    "country_code={\"America\":1, \"Korea\":82, \"China\":86, \"Japan\":81, \"Germany\":49}\n",
    "print(country_code)\n",
    "print(country_code.keys())\n",
    "print(country_code.values())\n",
    "print(country_code.items())"
   ]
  },
  {
   "cell_type": "code",
   "execution_count": 20,
   "id": "945abe66-af56-4446-beff-1f440ad4dbc2",
   "metadata": {},
   "outputs": [
    {
     "name": "stdout",
     "output_type": "stream",
     "text": [
      "1\n",
      "82\n"
     ]
    }
   ],
   "source": [
    "print(country_code[\"America\"])\n",
    "print(country_code.get(\"Korea\")) #대괄호[]나 .get() 나 동일하다"
   ]
  },
  {
   "cell_type": "code",
   "execution_count": 17,
   "id": "1e05d8fd-2792-4f1c-bb69-ba1f2bebb119",
   "metadata": {},
   "outputs": [
    {
     "name": "stdout",
     "output_type": "stream",
     "text": [
      "America 1\n",
      "Korea 82\n",
      "China 86\n",
      "Japan 81\n",
      "Germany 49\n"
     ]
    }
   ],
   "source": [
    "for k,v in country_code.items():\n",
    "    print(k,v)"
   ]
  },
  {
   "cell_type": "code",
   "execution_count": 19,
   "id": "d10a729c-1ec8-44f2-aa3c-48cc1acb9764",
   "metadata": {},
   "outputs": [
    {
     "name": "stdin",
     "output_type": "stream",
     "text": [
      "당신의 MBTI 유형을 입력하세요 (예: INFP):  isfj\n"
     ]
    },
    {
     "name": "stdout",
     "output_type": "stream",
     "text": [
      "\n",
      "[ISFJ] 유형에게 어울리는 직업은 다음과 같습니다:\n",
      "👉 간호사, 사회복지사, 사서\n"
     ]
    }
   ],
   "source": [
    "mbti_jobs = {\n",
    "    \"INTJ\": \"전략 컨설턴트, 데이터 과학자, 시스템 설계자\",\n",
    "    \"INTP\": \"연구원, 프로그래머, 이론 물리학자\",\n",
    "    \"ENTJ\": \"경영자, 프로젝트 매니저, 투자 분석가\",\n",
    "    \"ENTP\": \"스타트업 창업가, 마케터, 발명가\",\n",
    "    \"INFJ\": \"심리상담사, 작가, 사회운동가\",\n",
    "    \"INFP\": \"예술가, 작사가, 인권 활동가\",\n",
    "    \"ENFJ\": \"교사, HR 매니저, 커뮤니케이션 디렉터\",\n",
    "    \"ENFP\": \"기획자, 광고 크리에이터, 여행 작가\",\n",
    "    \"ISTJ\": \"회계사, 관리자, 공무원\",\n",
    "    \"ISFJ\": \"간호사, 사회복지사, 사서\",\n",
    "    \"ESTJ\": \"군인, 기업 관리자, 품질 관리자\",\n",
    "    \"ESFJ\": \"교사, 이벤트 플래너, 고객 서비스 매니저\",\n",
    "    \"ISTP\": \"기계 엔지니어, 파일럿, 정비사\",\n",
    "    \"ISFP\": \"패션 디자이너, 사진작가, 플로리스트\",\n",
    "    \"ESTP\": \"영업 전문가, 응급 구조사, 스포츠 코치\",\n",
    "    \"ESFP\": \"연예인, 여행 가이드, 쇼호스트\"\n",
    "}\n",
    "\n",
    "mbti = input(\"당신의 MBTI 유형을 입력하세요 (예: INFP): \").upper()\n",
    "\n",
    "job = mbti_jobs.get(mbti)\n",
    "\n",
    "if job:\n",
    "    print(f\"\\n[{mbti}] 유형에게 어울리는 직업은 다음과 같습니다:\\n👉 {job}\")\n",
    "else:\n",
    "    print(\"죄송해요. 해당 MBTI 유형은 데이터에 없어요. 🥲\")"
   ]
  },
  {
   "cell_type": "code",
   "execution_count": 25,
   "id": "59af2d62-26cf-442d-9b2a-5e4419f71db1",
   "metadata": {},
   "outputs": [
    {
     "name": "stdout",
     "output_type": "stream",
     "text": [
      "redbluegreenpurple\n",
      "red,blue,green,purple\n",
      "red blue green purple\n"
     ]
    }
   ],
   "source": [
    "colors=['red','blue','green','purple']\n",
    "result=''.join(colors) #하나로 붙일떄\n",
    "print(result)\n",
    "result2=','.join(colors) #하나로 붙이는데 중간에 콤마를 적용할 때\n",
    "print(result2)\n",
    "result3=' '.join(colors) #하나로 붙이는데 중간에 공백을 적용할 때\n",
    "print(result3)"
   ]
  },
  {
   "cell_type": "code",
   "execution_count": 29,
   "id": "fb40e691-5014-426d-9e31-ea7bce140244",
   "metadata": {},
   "outputs": [
    {
     "name": "stdout",
     "output_type": "stream",
     "text": [
      "Trump administration concedes Maryland father from El Salvador was mistakenly deported and sent to mega prison\n"
     ]
    }
   ],
   "source": [
    "items='Trump administration concedes Maryland father from El Salvador was mistakenly deported and sent to mega prison'\n",
    "print(items)"
   ]
  },
  {
   "cell_type": "code",
   "execution_count": 32,
   "id": "ed8dd216-f91c-42cb-8ce8-9c8b685faf67",
   "metadata": {},
   "outputs": [
    {
     "name": "stdout",
     "output_type": "stream",
     "text": [
      "['a', 'b', 'c', 'd']\n",
      "['www', 'naver', 'com']\n",
      "naver\n"
     ]
    }
   ],
   "source": [
    "ex1=\"a,b,c,d\"\n",
    "r1=ex1.split(\",\")\n",
    "print(r1)\n",
    "ex2=\"www.naver.com\"\n",
    "r2=ex2.split(\".\")\n",
    "print(r2)\n",
    "subdomain,domain,t1d=r2\n",
    "print(domain)"
   ]
  },
  {
   "cell_type": "code",
   "execution_count": 35,
   "id": "15aa3b27-f0c8-4a7a-bc70-d47eb4019ecc",
   "metadata": {},
   "outputs": [
    {
     "name": "stdout",
     "output_type": "stream",
     "text": [
      "[20, 40, 60, 100, 120]\n"
     ]
    }
   ],
   "source": [
    "wages=[10,20,30,50,60]\n",
    "r_wages=[i*2 for i in wages] #2를 곱해준다. 각각에 적용한다(for i in wages)\n",
    "print(r_wages)"
   ]
  },
  {
   "cell_type": "code",
   "execution_count": 37,
   "id": "9d4d8757-2f74-43b8-88fa-8564b3950ff8",
   "metadata": {},
   "outputs": [
    {
     "name": "stdout",
     "output_type": "stream",
     "text": [
      "[20, 40, 60, 100, 120]\n"
     ]
    }
   ],
   "source": [
    "wages=[10,20,30,50,60] #바로 위에랑 같지만 이렇게도 코딩할수 있다. 위에 코딩이 더 쉬운방법이다!\n",
    "r_wages=[]\n",
    "for i in wages:\n",
    "    r_wages.append(i*2)\n",
    "print(r_wages)"
   ]
  },
  {
   "cell_type": "code",
   "execution_count": 1,
   "id": "c5c1604c-7b72-4d34-bb6b-6709724bef65",
   "metadata": {},
   "outputs": [
    {
     "name": "stdout",
     "output_type": "stream",
     "text": [
      "git version 2.34.1\n"
     ]
    }
   ],
   "source": [
    "!git --version"
   ]
  },
  {
   "cell_type": "code",
   "execution_count": 3,
   "id": "11aa11bf-54bd-4034-91bd-d68fdcd2c61c",
   "metadata": {},
   "outputs": [
    {
     "name": "stdout",
     "output_type": "stream",
     "text": [
      "Reinitialized existing Git repository in /home/yido022/.git/\n"
     ]
    }
   ],
   "source": [
    "!git init"
   ]
  },
  {
   "cell_type": "code",
   "execution_count": 4,
   "id": "18ebdcc8-3b38-4878-964f-f08a94492ed1",
   "metadata": {},
   "outputs": [],
   "source": [
    "!git config --global user.name \"leedoyoung22\""
   ]
  },
  {
   "cell_type": "code",
   "execution_count": 5,
   "id": "f4fbc8c8-7969-44e2-bad5-402e617d4319",
   "metadata": {},
   "outputs": [],
   "source": [
    "!git config --global user.email \"yido022@naver.com\""
   ]
  },
  {
   "cell_type": "code",
   "execution_count": 6,
   "id": "5d373e17-d47a-4754-ad65-a28322e40ea2",
   "metadata": {},
   "outputs": [
    {
     "name": "stdout",
     "output_type": "stream",
     "text": [
      "On branch master\n",
      "\n",
      "No commits yet\n",
      "\n",
      "Untracked files:\n",
      "  (use \"git add <file>...\" to include in what will be committed)\n",
      "\t\u001b[31m.cache/\u001b[m\n",
      "\t\u001b[31m.gitconfig\u001b[m\n",
      "\t\u001b[31m.ipynb_checkpoints/\u001b[m\n",
      "\t\u001b[31m.ipython/\u001b[m\n",
      "\t\u001b[31m.jupyter/\u001b[m\n",
      "\t\u001b[31m.local/\u001b[m\n",
      "\t\u001b[31m.npm/\u001b[m\n",
      "\t\u001b[31m.ssh/\u001b[m\n",
      "\t\u001b[31m\"PR1_\\354\\235\\264\\353\\217\\204\\354\\230\\201.ipynb\"\u001b[m\n",
      "\t\u001b[31m\"PR2_\\354\\235\\264\\353\\217\\204\\354\\230\\201.ipynb\"\u001b[m\n",
      "\t\u001b[31m\"PR3_\\354\\235\\264\\353\\217\\204\\354\\230\\201.ipynb\"\u001b[m\n",
      "\t\u001b[31m\"PR4_\\354\\235\\264\\353\\217\\204\\354\\230\\201.ipynb\"\u001b[m\n",
      "\t\u001b[31m\"PR5_\\354\\235\\264\\353\\217\\204\\354\\230\\201.ipynb\"\u001b[m\n",
      "\t\u001b[31m\"PR6_\\354\\235\\264\\353\\217\\204\\354\\230\\201.ipynb\"\u001b[m\n",
      "\t\u001b[31m\"PR7_\\354\\235\\264\\353\\217\\204\\354\\230\\201.ipynb\"\u001b[m\n",
      "\t\u001b[31mchap1-3.ipynb\u001b[m\n",
      "\t\u001b[31mworkspace/\u001b[m\n",
      "\t\u001b[31m\"\\354\\227\\260\\354\\212\\265.ipynb\"\u001b[m\n",
      "\n",
      "nothing added to commit but untracked files present (use \"git add\" to track)\n"
     ]
    }
   ],
   "source": [
    "!git status"
   ]
  },
  {
   "cell_type": "code",
   "execution_count": 7,
   "id": "7bea2570-d456-48ae-8e36-a468bb6f0225",
   "metadata": {},
   "outputs": [],
   "source": [
    "!git remote add origin \"https://github.com/Leedoyoung22/ajou_MBA_1.git\""
   ]
  },
  {
   "cell_type": "code",
   "execution_count": 8,
   "id": "72c59565-79c5-452f-ac1f-8ccac7a5cd8c",
   "metadata": {},
   "outputs": [],
   "source": [
    "!git branch -m master main"
   ]
  },
  {
   "cell_type": "code",
   "execution_count": 9,
   "id": "76d80313-1f2b-4321-bebe-c2159697bba1",
   "metadata": {},
   "outputs": [
    {
     "name": "stdout",
     "output_type": "stream",
     "text": [
      "remote: Enumerating objects: 6, done.\u001b[K\n",
      "remote: Counting objects: 100% (6/6), done.\u001b[K\n",
      "remote: Compressing objects: 100% (2/2), done.\u001b[K\n",
      "remote: Total 6 (delta 0), reused 0 (delta 0), pack-reused 0 (from 0)\u001b[K\n",
      "Unpacking objects: 100% (6/6), 1.70 KiB | 145.00 KiB/s, done.\n",
      "From https://github.com/Leedoyoung22/ajou_MBA_1\n",
      " * branch            main       -> FETCH_HEAD\n",
      " * [new branch]      main       -> origin/main\n"
     ]
    }
   ],
   "source": [
    "!git pull origin main"
   ]
  },
  {
   "cell_type": "code",
   "execution_count": null,
   "id": "31581c14-da6e-443d-86b3-f1944846c7e3",
   "metadata": {},
   "outputs": [],
   "source": [
    "!git add pr6_이도영.ipynb"
   ]
  }
 ],
 "metadata": {
  "kernelspec": {
   "display_name": "Python 3 (ipykernel)",
   "language": "python",
   "name": "python3"
  },
  "language_info": {
   "codemirror_mode": {
    "name": "ipython",
    "version": 3
   },
   "file_extension": ".py",
   "mimetype": "text/x-python",
   "name": "python",
   "nbconvert_exporter": "python",
   "pygments_lexer": "ipython3",
   "version": "3.11.6"
  }
 },
 "nbformat": 4,
 "nbformat_minor": 5
}
